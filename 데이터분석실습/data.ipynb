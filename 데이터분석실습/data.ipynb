{
 "cells": [
  {
   "cell_type": "code",
   "execution_count": 64,
   "metadata": {},
   "outputs": [
    {
     "name": "stdout",
     "output_type": "stream",
     "text": [
      "b'<OpenAPI_ServiceResponse>\\n\\t<cmmMsgHeader>\\n\\t\\t<errMsg>SERVICE ERROR</errMsg>\\n\\t\\t<returnAuthMsg>SERVICE_KEY_IS_NOT_REGISTERED_ERROR</returnAuthMsg>\\n\\t\\t<returnReasonCode>30</returnReasonCode>\\n\\t</cmmMsgHeader>\\n</OpenAPI_ServiceResponse>'\n"
     ]
    }
   ],
   "source": [
    "import requests\n",
    "\n",
    "url = 'http://apis.data.go.kr/B552584/ArpltnInforInqireSvc/getMinuDustFrcstDspth'\n",
    "params ={'serviceKey' : 'Navuki5HCFrEC2OuQFYJEMspw9rpTa1VoYMZdH9%2F%2Fe1WnOAaxPyUsesxDzWRlF9ttOqwSLk9rHts78yRLqQw7A%3D%3D', 'returnType' : 'xml', 'numOfRows' : '100', 'pageNo' : '1', 'searchDate' : '2020-11-14', 'InformCode' : 'PM10' }\n",
    "\n",
    "response = requests.get(url, params=params)\n",
    "print(response.content)"
   ]
  },
  {
   "cell_type": "code",
   "execution_count": 79,
   "metadata": {},
   "outputs": [
    {
     "data": {
      "text/plain": [
       "'<?xml version=\"1.0\" encoding=\"UTF-8\" standalone=\"yes\"?>\\n<response>\\n    <header>\\n        <resultCode>00</resultCode>\\n        <resultMsg>NORMAL SERVICE.</resultMsg>\\n    </header>\\n    <body>\\n        <numOfRows>10</numOfRows>\\n        <pageNo>1</pageNo>\\n        <totalCount>12279261</totalCount>\\n        <items>\\n            <item>\\n                <afilCmpyCrno>1101110014764</afilCmpyCrno>\\n                <afilCmpyNm>롯데건설(주)</afilCmpyNm>\\n                <basDt>20200509</basDt>\\n                <crno>1101110000086</crno>\\n                <lstgYn></lstgYn>\\n            </item>\\n            <item>\\n                <afilCmpyCrno>1101110033722</afilCmpyCrno>\\n                <afilCmpyNm>(주)롯데푸드</afilCmpyNm>\\n                <basDt>20200509</basDt>\\n                <crno>1101110000086</crno>\\n                <lstgYn></lstgYn>\\n            </item>\\n            <item>\\n                <afilCmpyCrno>1101110076300</afilCmpyCrno>\\n                <afilCmpyNm>롯데지주(주)</afilCmpyNm>\\n                <basDt>20200509</basDt>\\n                <crno>1101110000086</crno>\\n                <lstgYn></lstgYn>\\n            </item>\\n            <item>\\n                <afilCmpyCrno>1101110145410</afilCmpyCrno>\\n                <afilCmpyNm>호텔롯데(주)</afilCmpyNm>\\n                <basDt>20200509</basDt>\\n                <crno>1101110000086</crno>\\n                <lstgYn></lstgYn>\\n            </item>\\n            <item>\\n                <afilCmpyCrno>1101110159099</afilCmpyCrno>\\n                <afilCmpyNm>롯데상사(주)</afilCmpyNm>\\n                <basDt>20200509</basDt>\\n                <crno>1101110000086</crno>\\n                <lstgYn></lstgYn>\\n            </item>\\n            <item>\\n                <afilCmpyCrno>1101110193196</afilCmpyCrno>\\n                <afilCmpyNm>롯데케미칼(주)</afilCmpyNm>\\n                <basDt>20200509</basDt>\\n                <crno>1101110000086</crno>\\n                <lstgYn></lstgYn>\\n            </item>\\n            <item>\\n                <afilCmpyCrno>1101110532633</afilCmpyCrno>\\n                <afilCmpyNm>롯데하이마트(주)</afilCmpyNm>\\n                <basDt>20200509</basDt>\\n                <crno>1101110000086</crno>\\n                <lstgYn></lstgYn>\\n            </item>\\n            <item>\\n                <afilCmpyCrno>1101111217416</afilCmpyCrno>\\n                <afilCmpyNm>롯데캐피탈(주)</afilCmpyNm>\\n                <basDt>20200509</basDt>\\n                <crno>1101110000086</crno>\\n                <lstgYn></lstgYn>\\n            </item>\\n            <item>\\n                <afilCmpyCrno>1101113326588</afilCmpyCrno>\\n                <afilCmpyNm>롯데렌탈(주)</afilCmpyNm>\\n                <basDt>20200509</basDt>\\n                <crno>1101110000086</crno>\\n                <lstgYn></lstgYn>\\n            </item>\\n            <item>\\n                <afilCmpyCrno>1101114660232</afilCmpyCrno>\\n                <afilCmpyNm>서울복합물류프로젝트금융투자(주)</afilCmpyNm>\\n                <basDt>20200509</basDt>\\n                <crno>1101110000086</crno>\\n                <lstgYn></lstgYn>\\n            </item>\\n        </items>\\n    </body>\\n</response>\\n'"
      ]
     },
     "execution_count": 79,
     "metadata": {},
     "output_type": "execute_result"
    }
   ],
   "source": [
    "# 모듈 import\n",
    "import requests\n",
    "import pprint\n",
    "\n",
    "#인증키 입력\n",
    "encoding = 'Navuki5HCFrEC2OuQFYJEMspw9rpTa1VoYMZdH9%2F%2Fe1WnOAaxPyUsesxDzWRlF9ttOqwSLk9rHts78yRLqQw7A%3D%3D'\n",
    "decoding = 'Navuki5HCFrEC2OuQFYJEMspw9rpTa1VoYMZdH9//e1WnOAaxPyUsesxDzWRlF9ttOqwSLk9rHts78yRLqQw7A=='\n",
    "\n",
    "#url 입력\n",
    "url = 'http://apis.data.go.kr/1160100/service/GetCorpBasicInfoService_V2/getAffiliate_V2'\n",
    "params ={'serviceKey' : decoding , \n",
    "'pageNo' : '1', \n",
    "'numOfRows' : '10'}\n",
    "\n",
    "response = requests.get(url, params=params)\n",
    "\n",
    "# xml 내용\n",
    "content = response.text\n",
    "\n",
    "content"
   ]
  },
  {
   "cell_type": "code",
   "execution_count": 82,
   "metadata": {},
   "outputs": [
    {
     "name": "stdout",
     "output_type": "stream",
     "text": [
      "('<?xml version=\"1.0\" encoding=\"UTF-8\" standalone=\"yes\"?>\\n'\n",
      " '<response>\\n'\n",
      " '    <header>\\n'\n",
      " '        <resultCode>00</resultCode>\\n'\n",
      " '        <resultMsg>NORMAL SERVICE.</resultMsg>\\n'\n",
      " '    </header>\\n'\n",
      " '    <body>\\n'\n",
      " '        <numOfRows>10</numOfRows>\\n'\n",
      " '        <pageNo>1</pageNo>\\n'\n",
      " '        <totalCount>12279261</totalCount>\\n'\n",
      " '        <items>\\n'\n",
      " '            <item>\\n'\n",
      " '                <afilCmpyCrno>1101110014764</afilCmpyCrno>\\n'\n",
      " '                <afilCmpyNm>롯데건설(주)</afilCmpyNm>\\n'\n",
      " '                <basDt>20200509</basDt>\\n'\n",
      " '                <crno>1101110000086</crno>\\n'\n",
      " '                <lstgYn></lstgYn>\\n'\n",
      " '            </item>\\n'\n",
      " '            <item>\\n'\n",
      " '                <afilCmpyCrno>1101110033722</afilCmpyCrno>\\n'\n",
      " '                <afilCmpyNm>(주)롯데푸드</afilCmpyNm>\\n'\n",
      " '                <basDt>20200509</basDt>\\n'\n",
      " '                <crno>1101110000086</crno>\\n'\n",
      " '                <lstgYn></lstgYn>\\n'\n",
      " '            </item>\\n'\n",
      " '            <item>\\n'\n",
      " '                <afilCmpyCrno>1101110076300</afilCmpyCrno>\\n'\n",
      " '                <afilCmpyNm>롯데지주(주)</afilCmpyNm>\\n'\n",
      " '                <basDt>20200509</basDt>\\n'\n",
      " '                <crno>1101110000086</crno>\\n'\n",
      " '                <lstgYn></lstgYn>\\n'\n",
      " '            </item>\\n'\n",
      " '            <item>\\n'\n",
      " '                <afilCmpyCrno>1101110145410</afilCmpyCrno>\\n'\n",
      " '                <afilCmpyNm>호텔롯데(주)</afilCmpyNm>\\n'\n",
      " '                <basDt>20200509</basDt>\\n'\n",
      " '                <crno>1101110000086</crno>\\n'\n",
      " '                <lstgYn></lstgYn>\\n'\n",
      " '            </item>\\n'\n",
      " '            <item>\\n'\n",
      " '                <afilCmpyCrno>1101110159099</afilCmpyCrno>\\n'\n",
      " '                <afilCmpyNm>롯데상사(주)</afilCmpyNm>\\n'\n",
      " '                <basDt>20200509</basDt>\\n'\n",
      " '                <crno>1101110000086</crno>\\n'\n",
      " '                <lstgYn></lstgYn>\\n'\n",
      " '            </item>\\n'\n",
      " '            <item>\\n'\n",
      " '                <afilCmpyCrno>1101110193196</afilCmpyCrno>\\n'\n",
      " '                <afilCmpyNm>롯데케미칼(주)</afilCmpyNm>\\n'\n",
      " '                <basDt>20200509</basDt>\\n'\n",
      " '                <crno>1101110000086</crno>\\n'\n",
      " '                <lstgYn></lstgYn>\\n'\n",
      " '            </item>\\n'\n",
      " '            <item>\\n'\n",
      " '                <afilCmpyCrno>1101110532633</afilCmpyCrno>\\n'\n",
      " '                <afilCmpyNm>롯데하이마트(주)</afilCmpyNm>\\n'\n",
      " '                <basDt>20200509</basDt>\\n'\n",
      " '                <crno>1101110000086</crno>\\n'\n",
      " '                <lstgYn></lstgYn>\\n'\n",
      " '            </item>\\n'\n",
      " '            <item>\\n'\n",
      " '                <afilCmpyCrno>1101111217416</afilCmpyCrno>\\n'\n",
      " '                <afilCmpyNm>롯데캐피탈(주)</afilCmpyNm>\\n'\n",
      " '                <basDt>20200509</basDt>\\n'\n",
      " '                <crno>1101110000086</crno>\\n'\n",
      " '                <lstgYn></lstgYn>\\n'\n",
      " '            </item>\\n'\n",
      " '            <item>\\n'\n",
      " '                <afilCmpyCrno>1101113326588</afilCmpyCrno>\\n'\n",
      " '                <afilCmpyNm>롯데렌탈(주)</afilCmpyNm>\\n'\n",
      " '                <basDt>20200509</basDt>\\n'\n",
      " '                <crno>1101110000086</crno>\\n'\n",
      " '                <lstgYn></lstgYn>\\n'\n",
      " '            </item>\\n'\n",
      " '            <item>\\n'\n",
      " '                <afilCmpyCrno>1101114660232</afilCmpyCrno>\\n'\n",
      " '                <afilCmpyNm>서울복합물류프로젝트금융투자(주)</afilCmpyNm>\\n'\n",
      " '                <basDt>20200509</basDt>\\n'\n",
      " '                <crno>1101110000086</crno>\\n'\n",
      " '                <lstgYn></lstgYn>\\n'\n",
      " '            </item>\\n'\n",
      " '        </items>\\n'\n",
      " '    </body>\\n'\n",
      " '</response>\\n')\n",
      "None\n"
     ]
    }
   ],
   "source": [
    "pp = pprint.PrettyPrinter(indent=4)\n",
    "print(pp.pprint(content))"
   ]
  },
  {
   "cell_type": "code",
   "execution_count": 99,
   "metadata": {},
   "outputs": [],
   "source": [
    "from bs4 import BeautifulSoup\n",
    "\n",
    "xml_obj = BeautifulSoup(content, 'lxml-xml')\n",
    "rows = xml_obj.find_all('item')"
   ]
  },
  {
   "cell_type": "code",
   "execution_count": 100,
   "metadata": {},
   "outputs": [
    {
     "data": {
      "text/plain": [
       "[<item>\n",
       " <afilCmpyCrno>1101110014764</afilCmpyCrno>\n",
       " <afilCmpyNm>롯데건설(주)</afilCmpyNm>\n",
       " <basDt>20200509</basDt>\n",
       " <crno>1101110000086</crno>\n",
       " <lstgYn/>\n",
       " </item>,\n",
       " <item>\n",
       " <afilCmpyCrno>1101110033722</afilCmpyCrno>\n",
       " <afilCmpyNm>(주)롯데푸드</afilCmpyNm>\n",
       " <basDt>20200509</basDt>\n",
       " <crno>1101110000086</crno>\n",
       " <lstgYn/>\n",
       " </item>,\n",
       " <item>\n",
       " <afilCmpyCrno>1101110076300</afilCmpyCrno>\n",
       " <afilCmpyNm>롯데지주(주)</afilCmpyNm>\n",
       " <basDt>20200509</basDt>\n",
       " <crno>1101110000086</crno>\n",
       " <lstgYn/>\n",
       " </item>,\n",
       " <item>\n",
       " <afilCmpyCrno>1101110145410</afilCmpyCrno>\n",
       " <afilCmpyNm>호텔롯데(주)</afilCmpyNm>\n",
       " <basDt>20200509</basDt>\n",
       " <crno>1101110000086</crno>\n",
       " <lstgYn/>\n",
       " </item>,\n",
       " <item>\n",
       " <afilCmpyCrno>1101110159099</afilCmpyCrno>\n",
       " <afilCmpyNm>롯데상사(주)</afilCmpyNm>\n",
       " <basDt>20200509</basDt>\n",
       " <crno>1101110000086</crno>\n",
       " <lstgYn/>\n",
       " </item>,\n",
       " <item>\n",
       " <afilCmpyCrno>1101110193196</afilCmpyCrno>\n",
       " <afilCmpyNm>롯데케미칼(주)</afilCmpyNm>\n",
       " <basDt>20200509</basDt>\n",
       " <crno>1101110000086</crno>\n",
       " <lstgYn/>\n",
       " </item>,\n",
       " <item>\n",
       " <afilCmpyCrno>1101110532633</afilCmpyCrno>\n",
       " <afilCmpyNm>롯데하이마트(주)</afilCmpyNm>\n",
       " <basDt>20200509</basDt>\n",
       " <crno>1101110000086</crno>\n",
       " <lstgYn/>\n",
       " </item>,\n",
       " <item>\n",
       " <afilCmpyCrno>1101111217416</afilCmpyCrno>\n",
       " <afilCmpyNm>롯데캐피탈(주)</afilCmpyNm>\n",
       " <basDt>20200509</basDt>\n",
       " <crno>1101110000086</crno>\n",
       " <lstgYn/>\n",
       " </item>,\n",
       " <item>\n",
       " <afilCmpyCrno>1101113326588</afilCmpyCrno>\n",
       " <afilCmpyNm>롯데렌탈(주)</afilCmpyNm>\n",
       " <basDt>20200509</basDt>\n",
       " <crno>1101110000086</crno>\n",
       " <lstgYn/>\n",
       " </item>,\n",
       " <item>\n",
       " <afilCmpyCrno>1101114660232</afilCmpyCrno>\n",
       " <afilCmpyNm>서울복합물류프로젝트금융투자(주)</afilCmpyNm>\n",
       " <basDt>20200509</basDt>\n",
       " <crno>1101110000086</crno>\n",
       " <lstgYn/>\n",
       " </item>]"
      ]
     },
     "execution_count": 100,
     "metadata": {},
     "output_type": "execute_result"
    }
   ],
   "source": [
    "rows"
   ]
  },
  {
   "cell_type": "code",
   "execution_count": 101,
   "metadata": {},
   "outputs": [],
   "source": [
    "# 각 행의 컬럼, 이름, 값을 가지는 리스트 만들기\n",
    "row_list = [] # 행값\n",
    "name_list = [] # 열이름값\n",
    "value_list = [] #데이터값\n",
    "\n",
    "# xml 안의 데이터 수집\n",
    "for i in range(0, len(rows)):\n",
    "    columns = rows[i].find_all()\n",
    "    #첫째 행 데이터 수집\n",
    "    for j in range(0,len(columns)):\n",
    "        if i ==0:\n",
    "            # 컬럼 이름 값 저장\n",
    "            name_list.append(columns[j].name)\n",
    "        # 컬럼의 각 데이터 값 저장\n",
    "        value_list.append(columns[j].text)\n",
    "    # 각 행의 value값 전체 저장\n",
    "    row_list.append(value_list)\n",
    "    # 데이터 리스트 값 초기화\n",
    "    value_list=[]"
   ]
  },
  {
   "cell_type": "code",
   "execution_count": 102,
   "metadata": {},
   "outputs": [
    {
     "name": "stdout",
     "output_type": "stream",
     "text": [
      "    afilCmpyCrno         afilCmpyNm     basDt           crno lstgYn\n",
      "0  1101110014764            롯데건설(주)  20200509  1101110000086       \n",
      "1  1101110033722            (주)롯데푸드  20200509  1101110000086       \n",
      "2  1101110076300            롯데지주(주)  20200509  1101110000086       \n",
      "3  1101110145410            호텔롯데(주)  20200509  1101110000086       \n",
      "4  1101110159099            롯데상사(주)  20200509  1101110000086       \n",
      "5  1101110193196           롯데케미칼(주)  20200509  1101110000086       \n",
      "6  1101110532633          롯데하이마트(주)  20200509  1101110000086       \n",
      "7  1101111217416           롯데캐피탈(주)  20200509  1101110000086       \n",
      "8  1101113326588            롯데렌탈(주)  20200509  1101110000086       \n",
      "9  1101114660232  서울복합물류프로젝트금융투자(주)  20200509  1101110000086       \n"
     ]
    }
   ],
   "source": [
    "import pandas as pd\n",
    "df = pd.DataFrame(row_list, columns=name_list)\n",
    "print(df.head(10))"
   ]
  },
  {
   "cell_type": "code",
   "execution_count": 103,
   "metadata": {},
   "outputs": [],
   "source": [
    "df.to_csv('계열사조회.csv')"
   ]
  }
 ],
 "metadata": {
  "kernelspec": {
   "display_name": "Python 3",
   "language": "python",
   "name": "python3"
  },
  "language_info": {
   "codemirror_mode": {
    "name": "ipython",
    "version": 3
   },
   "file_extension": ".py",
   "mimetype": "text/x-python",
   "name": "python",
   "nbconvert_exporter": "python",
   "pygments_lexer": "ipython3",
   "version": "3.9.13"
  },
  "orig_nbformat": 4
 },
 "nbformat": 4,
 "nbformat_minor": 2
}
